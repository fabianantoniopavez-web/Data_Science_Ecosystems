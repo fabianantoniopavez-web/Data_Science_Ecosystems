{
 "cells": [
  {
   "cell_type": "markdown",
   "id": "4c96b998-d444-4818-9d58-ef32fd6c9882",
   "metadata": {},
   "source": [
    "# Data Science Tools and Ecosystem"
   ]
  },
  {
   "cell_type": "markdown",
   "id": "a05e9812-7ba9-4519-bd8e-816fe9be006a",
   "metadata": {},
   "source": [
    "In this notebook, we summarize the tools and ecosystems used in Data Science."
   ]
  },
  {
   "cell_type": "markdown",
   "id": "ec011f3d-4912-420b-b79d-e7b8daac3dcf",
   "metadata": {},
   "source": [
    "Some of the popular languages that Data Scientists:\n",
    "\n",
    "1. Python\n",
    "2. R\n",
    "3. SQL\n",
    "4. Julia\n",
    "5. Scala!"
   ]
  },
  {
   "cell_type": "markdown",
   "id": "602e02f8-2411-4c96-8de0-f7901a923ab0",
   "metadata": {},
   "source": [
    "Some of the commonly used libraries by Data Scientists:\n",
    "\n",
    "1. Pandas\n",
    "2. Numpy\n",
    "3. Matplotlib\n",
    "4. Seaborn\n",
    "5. scikit-learn\n",
    "6. TensorFlow"
   ]
  },
  {
   "cell_type": "markdown",
   "id": "d7ddacf0-96d1-4394-9d8d-71991cef33ad",
   "metadata": {},
   "source": [
    "Data Science Tools\n",
    "\n",
    "- Jupyter\n",
    "- Notebook\n",
    "- Rstudio\n",
    "- Apache Zeppelin"
   ]
  },
  {
   "cell_type": "markdown",
   "id": "550935de-f34d-4985-ac5a-3e241a4cb526",
   "metadata": {},
   "source": [
    "Arithmetic Expressions\n",
    "- Sum: 2 + 2 = 4\n",
    "- Subtraction: 2 - 1 = 1\n",
    "- Division: 2 / 1 = 2\n",
    "- Multiplication: 2 * 2 = 4"
   ]
  },
  {
   "cell_type": "code",
   "execution_count": 51,
   "id": "316470c5-b5eb-4968-9818-48c4eb962cb0",
   "metadata": {},
   "outputs": [
    {
     "data": {
      "text/plain": [
       "17"
      ]
     },
     "execution_count": 51,
     "metadata": {},
     "output_type": "execute_result"
    }
   ],
   "source": [
    "#Evaluating Basic Arithmetic Expression\n",
    "(3 * 4) + 5\n"
   ]
  },
  {
   "cell_type": "code",
   "execution_count": 4,
   "id": "035031ab-fe73-4b7f-9168-47d4d45e541a",
   "metadata": {},
   "outputs": [
    {
     "data": {
      "text/plain": [
       "3.3333333333333335"
      ]
     },
     "execution_count": 4,
     "metadata": {},
     "output_type": "execute_result"
    }
   ],
   "source": [
    "# Minute to hours\n",
    "200 / 60\n"
   ]
  },
  {
   "cell_type": "markdown",
   "id": "4d38bf2a-a1f3-4c38-a3bb-c1a8b7253ed5",
   "metadata": {},
   "source": [
    "Objectives\n",
    "- Understand the languages used in data science\n",
    "- Identify key libraries for data analysis\n",
    "- Apply basic operations in Python\n",
    "- Visualize data effectively"
   ]
  },
  {
   "cell_type": "markdown",
   "id": "44355c31-46f0-401d-95c8-13dc52d655fc",
   "metadata": {},
   "source": [
    "## Author\n",
    "\n",
    "- Lakshmi Holla\n",
    "- Niveditha Pandith"
   ]
  },
  {
   "cell_type": "markdown",
   "id": "8c41e5e0-b0ef-4b38-86be-645303fb3ba4",
   "metadata": {},
   "source": [
    "The notebook has been uploaded to GitHub at the following link:\n",
    "\n",
    "GitHub Repository\n",
    "\n",
    "https://github.com/fabianantoniopavez-web/Data_Science_Ecosystems/blob/main/DataSciencieEcosystem.ipynb"
   ]
  },
  {
   "cell_type": "code",
   "execution_count": null,
   "id": "89dfe45b-0460-4b97-b57f-1433bd21fc68",
   "metadata": {},
   "outputs": [],
   "source": []
  }
 ],
 "metadata": {
  "kernelspec": {
   "display_name": "Python 3 (ipykernel)",
   "language": "python",
   "name": "python3"
  },
  "language_info": {
   "codemirror_mode": {
    "name": "ipython",
    "version": 3
   },
   "file_extension": ".py",
   "mimetype": "text/x-python",
   "name": "python",
   "nbconvert_exporter": "python",
   "pygments_lexer": "ipython3",
   "version": "3.12.8"
  }
 },
 "nbformat": 4,
 "nbformat_minor": 5
}

