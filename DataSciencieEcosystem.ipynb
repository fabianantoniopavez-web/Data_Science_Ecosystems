{
 "cells": [
  {
   "cell_type": "code",
   "execution_count": 21,
   "id": "68eac140-363b-4623-8d65-a25406dff86b",
   "metadata": {},
   "outputs": [],
   "source": [
    "#Data Science Tools and Ecosystem\n",
    "\n"
   ]
  },
  {
   "cell_type": "code",
   "execution_count": 22,
   "id": "087850d0-7dc9-4ab6-aaae-c492c961907d",
   "metadata": {},
   "outputs": [],
   "source": [
    "#In this notebook, we summarize the tools and ecosystems used in Data Science."
   ]
  },
  {
   "cell_type": "code",
   "execution_count": 23,
   "id": "45c91f9e-c5d8-41c0-9f57-fde16f30ca93",
   "metadata": {},
   "outputs": [],
   "source": [
    "#Some of the popular languages that Data Scientists:\n",
    "\n",
    "#1. Python\n",
    "#2. R \n",
    "#3. SQL\n",
    "#4. Julia\n",
    "#5. Scala!\n"
   ]
  },
  {
   "cell_type": "code",
   "execution_count": 24,
   "id": "ffc4c8f3-b15c-4783-9d19-54916e20c42e",
   "metadata": {},
   "outputs": [],
   "source": [
    "#Some of the commonly used libraries by Data Scientists:\n",
    "\n",
    "#1. Pandas\n",
    "#2. NumPy\n",
    "#3. Matplotlib\n",
    "#4. Seaborn\n",
    "#5. scikit-learn \n",
    "#6. TensorFlow\n"
   ]
  },
  {
   "cell_type": "code",
   "execution_count": 27,
   "id": "7784fe7f-6017-40c2-bee5-8040c3e7d79b",
   "metadata": {},
   "outputs": [],
   "source": [
    "#Data Science Tools\n",
    "\n",
    "#Jupyter Notebook\n",
    "#Rstudio\n",
    "#Apache Zeppelin\n"
   ]
  },
  {
   "cell_type": "code",
   "execution_count": 3,
   "id": "12dbbf59-93c2-4425-8ca2-aee68baf0878",
   "metadata": {},
   "outputs": [
    {
     "data": {
      "text/plain": [
       "'multiplication 2*2=4'"
      ]
     },
     "execution_count": 3,
     "metadata": {},
     "output_type": "execute_result"
    }
   ],
   "source": [
    "# Arithmetic Expressions \n",
    "\n",
    "\"Sum (2+2)=4\"\n",
    "\"rest (2-1)=1\"\n",
    "\"Divide 2/1=2\"\n",
    "\"multiplication 2*2=4\"\n"
   ]
  },
  {
   "cell_type": "code",
   "execution_count": null,
   "id": "b0391471-4721-4b89-85d5-9e03eebc1bf0",
   "metadata": {},
   "outputs": [],
   "source": [
    "Evaluating Basic Arithmetic Expression"
   ]
  },
  {
   "cell_type": "code",
   "execution_count": 31,
   "id": "316470c5-b5eb-4968-9818-48c4eb962cb0",
   "metadata": {},
   "outputs": [
    {
     "data": {
      "text/plain": [
       "14"
      ]
     },
     "execution_count": 31,
     "metadata": {},
     "output_type": "execute_result"
    }
   ],
   "source": [
    "(3 * 4) +2"
   ]
  },
  {
   "cell_type": "code",
   "execution_count": 4,
   "id": "035031ab-fe73-4b7f-9168-47d4d45e541a",
   "metadata": {},
   "outputs": [
    {
     "data": {
      "text/plain": [
       "3.3333333333333335"
      ]
     },
     "execution_count": 4,
     "metadata": {},
     "output_type": "execute_result"
    }
   ],
   "source": [
    "# Minute to hours\n",
    "200 / 60\n"
   ]
  },
  {
   "cell_type": "code",
   "execution_count": 20,
   "id": "1c27197b-059a-42e8-b0d9-22d5376573b8",
   "metadata": {},
   "outputs": [
    {
     "name": "stdout",
     "output_type": "stream",
     "text": [
      "- Understand the languages used in data science\n",
      "- Identify key libraries for data analysis\n",
      "- Apply basic operations in Python\n",
      "- Visualize data effectively\n"
     ]
    }
   ],
   "source": [
    "#objectives\n",
    "objectives = [\n",
    "    \"Understand the languages used in data science\",\n",
    "    \"Identify key libraries for data analysis\",\n",
    "    \"Apply basic operations in Python\",\n",
    "    \"Visualize data effectively\"\n",
    "]\n",
    "\n",
    "for objective in objectives:\n",
    "    print(\"-\", objective)\n"
   ]
  },
  {
   "cell_type": "code",
   "execution_count": 22,
   "id": "4040c177-ec80-40b6-b405-8332cefdefe1",
   "metadata": {},
   "outputs": [
    {
     "data": {
      "text/plain": [
       "'Fabian Pavez'"
      ]
     },
     "execution_count": 22,
     "metadata": {},
     "output_type": "execute_result"
    }
   ],
   "source": [
    "##Author\n",
    "\"Fabian Pavez\"\n",
    "\n"
   ]
  },
  {
   "cell_type": "code",
   "execution_count": 31,
   "id": "6ff3e856-a8ea-41ae-a9e8-25009d99037b",
   "metadata": {},
   "outputs": [
    {
     "data": {
      "text/plain": [
       "'https://github.com/fabianantoniopavez-web/Data_Science_Ecosystems/blob/main/DataSciencieEcosystem.ipynb'"
      ]
     },
     "execution_count": 31,
     "metadata": {},
     "output_type": "execute_result"
    }
   ],
   "source": [
    "#The notebook has been uploaded to GitHub at the following link:\n",
    "\n",
    "##GitHub Repository\n",
    "\"https://github.com/fabianantoniopavez-web/Data_Science_Ecosystems/blob/main/DataSciencieEcosystem.ipynb\""
   ]
  },
  {
   "cell_type": "code",
   "execution_count": null,
   "id": "6e97e2a4-09a1-4759-9cd2-6f710fe3e54b",
   "metadata": {},
   "outputs": [],
   "source": []
  }
 ],
 "metadata": {
  "kernelspec": {
   "display_name": "Python 3 (ipykernel)",
   "language": "python",
   "name": "python3"
  },
  "language_info": {
   "codemirror_mode": {
    "name": "ipython",
    "version": 3
   },
   "file_extension": ".py",
   "mimetype": "text/x-python",
   "name": "python",
   "nbconvert_exporter": "python",
   "pygments_lexer": "ipython3",
   "version": "3.12.8"
  }
 },
 "nbformat": 4,
 "nbformat_minor": 5
}


